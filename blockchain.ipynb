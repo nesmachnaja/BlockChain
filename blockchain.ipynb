{
  "nbformat": 4,
  "nbformat_minor": 0,
  "metadata": {
    "colab": {
      "name": "blockchain.ipynb",
      "provenance": [],
      "collapsed_sections": [],
      "authorship_tag": "ABX9TyMeyUeBhvGQ8NI3McLM+z27",
      "include_colab_link": true
    },
    "kernelspec": {
      "name": "python3",
      "display_name": "Python 3"
    },
    "language_info": {
      "name": "python"
    }
  },
  "cells": [
    {
      "cell_type": "markdown",
      "metadata": {
        "id": "view-in-github",
        "colab_type": "text"
      },
      "source": [
        "<a href=\"https://colab.research.google.com/github/nesmachnaja/BlockChain/blob/main/blockchain.ipynb\" target=\"_parent\"><img src=\"https://colab.research.google.com/assets/colab-badge.svg\" alt=\"Open In Colab\"/></a>"
      ]
    },
    {
      "cell_type": "code",
      "execution_count": null,
      "metadata": {
        "colab": {
          "base_uri": "https://localhost:8080/"
        },
        "id": "PSq0uVdXVu9q",
        "outputId": "36ed6be3-9542-467c-964a-68bf6b198493"
      },
      "outputs": [
        {
          "output_type": "stream",
          "name": "stdout",
          "text": [
            "1234\n"
          ]
        }
      ],
      "source": [
        "my_money = 1234\n",
        "print(my_money)"
      ]
    },
    {
      "cell_type": "code",
      "source": [
        "import hashlib"
      ],
      "metadata": {
        "id": "yhhR15bNZcsD"
      },
      "execution_count": null,
      "outputs": []
    },
    {
      "cell_type": "code",
      "source": [
        "my_account = {\n",
        "    \"name\": \"Liudmila\",\n",
        "    \"balance\": 123456,\n",
        "    \"open_date\": \"2022-04-12\"\n",
        "}\n",
        "my_account"
      ],
      "metadata": {
        "colab": {
          "base_uri": "https://localhost:8080/"
        },
        "id": "osfI5oRDZh19",
        "outputId": "3f23b705-f441-4b47-cb4f-e38a8cf2fa18"
      },
      "execution_count": null,
      "outputs": [
        {
          "output_type": "execute_result",
          "data": {
            "text/plain": [
              "{'balance': 123456, 'name': 'Liudmila', 'open_date': '2022-04-12'}"
            ]
          },
          "metadata": {},
          "execution_count": 5
        }
      ]
    },
    {
      "cell_type": "code",
      "source": [
        "hashlib.sha256(my_account[\"name\"].encode())"
      ],
      "metadata": {
        "colab": {
          "base_uri": "https://localhost:8080/"
        },
        "id": "Yhy9lAOnaJLU",
        "outputId": "086f2d4e-ec58-4071-ab82-3fc442f2674a"
      },
      "execution_count": null,
      "outputs": [
        {
          "output_type": "execute_result",
          "data": {
            "text/plain": [
              "<sha256 HASH object @ 0x7f80b99be840>"
            ]
          },
          "metadata": {},
          "execution_count": 6
        }
      ]
    },
    {
      "cell_type": "code",
      "source": [
        "import json"
      ],
      "metadata": {
        "id": "E26cR1vVaglf"
      },
      "execution_count": null,
      "outputs": []
    },
    {
      "cell_type": "code",
      "source": [
        "json_data = json.dumps(my_account)"
      ],
      "metadata": {
        "id": "J1SWoqAgamqm"
      },
      "execution_count": null,
      "outputs": []
    },
    {
      "cell_type": "code",
      "source": [
        "binary_data = json_data.encode()"
      ],
      "metadata": {
        "id": "u28zOBVFarIk"
      },
      "execution_count": null,
      "outputs": []
    },
    {
      "cell_type": "code",
      "source": [
        "print (binary_data)"
      ],
      "metadata": {
        "colab": {
          "base_uri": "https://localhost:8080/"
        },
        "id": "K-9gB3NXa454",
        "outputId": "0ac4bc52-b5c2-4785-a912-ec00f12876b3"
      },
      "execution_count": null,
      "outputs": [
        {
          "output_type": "stream",
          "name": "stdout",
          "text": [
            "b'{\"name\": \"Liudmila\", \"balance\": 123456, \"open_date\": \"2022-04-12\"}'\n"
          ]
        }
      ]
    },
    {
      "cell_type": "code",
      "source": [
        "hashlib.sha256(binary_data).hexdigest()"
      ],
      "metadata": {
        "colab": {
          "base_uri": "https://localhost:8080/",
          "height": 35
        },
        "id": "YjBI0DhFa8ic",
        "outputId": "93998d85-1605-4f89-e6a6-f0ffa5c70841"
      },
      "execution_count": null,
      "outputs": [
        {
          "output_type": "execute_result",
          "data": {
            "text/plain": [
              "'dec6f55ef8855eac69076177aa60738043f9100ce02d11855fdbc8f6f7459f0e'"
            ],
            "application/vnd.google.colaboratory.intrinsic+json": {
              "type": "string"
            }
          },
          "metadata": {},
          "execution_count": 11
        }
      ]
    },
    {
      "cell_type": "code",
      "source": [
        "def dataToHash(data):\n",
        "  json_data = json.dumps(data)\n",
        "  binary_data = json_data.encode()\n",
        "  return hashlib.sha256(binary_data).hexdigest()"
      ],
      "metadata": {
        "id": "u6eXEuitbCpv"
      },
      "execution_count": null,
      "outputs": []
    },
    {
      "cell_type": "code",
      "source": [
        "def dataToHash(data):\n",
        "  json_data = json.dumps(data, sort_keys = True)\n",
        "  binary_data = json_data.encode()\n",
        "  return hashlib.sha256(binary_data).hexdigest()[:10]\n",
        "\n",
        "blockchain = [\n",
        "              {\n",
        "                  \"from\": \"\",\n",
        "                  \"to\": \"\",\n",
        "                  \"amount\": 0.0\n",
        "              },\n",
        "              {\n",
        "                  \"from\": \"Mike\",\n",
        "                  \"to\": \"Sam\",\n",
        "                  \"amount\": 1000.0\n",
        "              }\n",
        "]\n",
        "\n",
        "def addnewBlock(account_from, account_to, amount):\n",
        "  prev_block = blockchain[-1]\n",
        "  prev_hash = dataToHash(prev_block)\n",
        "  block = {\n",
        "    \"from\": account_from,\n",
        "    \"to\": account_to,\n",
        "    \"amount\": amount,\n",
        "    \"prev_hash\": prev_hash\n",
        "  }\n",
        "  blockchain.append(block)\n",
        "\n",
        "addnewBlock(\"Vasya\", \"Petya\", 9000)\n",
        "addnewBlock(\"Kate\", \"Julia\", 8000)\n",
        "\n",
        "blockchain"
      ],
      "metadata": {
        "id": "YdH27wY9boLE",
        "colab": {
          "base_uri": "https://localhost:8080/"
        },
        "outputId": "929cf376-ab47-4204-a1b1-5d4c1a59ecc3"
      },
      "execution_count": null,
      "outputs": [
        {
          "output_type": "execute_result",
          "data": {
            "text/plain": [
              "[{'amount': 0.0, 'from': '', 'to': ''},\n",
              " {'amount': 1000.0, 'from': 'Mike', 'to': 'Sam'},\n",
              " {'amount': 9000, 'from': 'Vasya', 'prev_hash': 'db0a066945', 'to': 'Petya'},\n",
              " {'amount': 8000, 'from': 'Kate', 'prev_hash': '27c68e93da', 'to': 'Julia'}]"
            ]
          },
          "metadata": {},
          "execution_count": 13
        }
      ]
    },
    {
      "cell_type": "code",
      "source": [
        "genesis_block = {\n",
        "                  \"from\": \"\",\n",
        "                  \"to\": \"\",\n",
        "                  \"amount\": 0.0\n",
        "              }\n",
        "genesis_block[\"proof\"] = mineProofOfWork(genesis_block)\n",
        "\n",
        "blockchain = [\n",
        "              genesis_block\n",
        "]\n",
        "\n",
        "def addnewBlock(account_from, account_to, amount):\n",
        "  prev_block = blockchain[-1]\n",
        "  prev_hash = dataToHash(prev_block)\n",
        "  block = {\n",
        "    \"from\": account_from,\n",
        "    \"to\": account_to,\n",
        "    \"amount\": amount,\n",
        "    \"prev_hash\": prev_hash\n",
        "  }\n",
        "  proof = mineProofOfWork(block) #майнинг блока\n",
        "  block[\"proof\"] = proof\n",
        "  blockchain.append(block)\n",
        "\n",
        "addnewBlock(\"Liudmila\", \"Vasya\", 2000)\n",
        "addnewBlock(\"Liudmila\", \"Petya\", 14)\n",
        "addnewBlock(\"Liudmila\", \"Kolya\", 88)\n",
        "addnewBlock(\"Liudmila\", \"Nastya\", 69420)\n",
        "\n",
        "\n",
        "blockchain\n",
        "\n",
        "addnewBlock(\"Vasya\", \"Petya\", 1000)\n",
        "addnewBlock(\"Petya\", \"Nastya\", 500)\n",
        "addnewBlock(\"Petya\", \"Kolya\", 500)\n",
        "\n",
        "blockchain"
      ],
      "metadata": {
        "colab": {
          "base_uri": "https://localhost:8080/"
        },
        "id": "6PCX6nbceQ8Q",
        "outputId": "e774b133-3303-4b6f-9d02-68cda31d6d5c"
      },
      "execution_count": null,
      "outputs": [
        {
          "output_type": "execute_result",
          "data": {
            "text/plain": [
              "[{'amount': 0.0, 'from': '', 'proof': 14405, 'to': ''},\n",
              " {'amount': 2000,\n",
              "  'from': 'Liudmila',\n",
              "  'prev_hash': '0000931747',\n",
              "  'proof': 36128,\n",
              "  'to': 'Vasya'},\n",
              " {'amount': 14,\n",
              "  'from': 'Liudmila',\n",
              "  'prev_hash': '0000249010',\n",
              "  'proof': 2495,\n",
              "  'to': 'Petya'},\n",
              " {'amount': 88,\n",
              "  'from': 'Liudmila',\n",
              "  'prev_hash': '00008354d6',\n",
              "  'proof': 18382,\n",
              "  'to': 'Kolya'},\n",
              " {'amount': 69420,\n",
              "  'from': 'Liudmila',\n",
              "  'prev_hash': '00001e6ec6',\n",
              "  'proof': 14190,\n",
              "  'to': 'Nastya'},\n",
              " {'amount': 1000,\n",
              "  'from': 'Vasya',\n",
              "  'prev_hash': '0000e18296',\n",
              "  'proof': 171126,\n",
              "  'to': 'Petya'},\n",
              " {'amount': 500,\n",
              "  'from': 'Petya',\n",
              "  'prev_hash': '0000b17c95',\n",
              "  'proof': 125472,\n",
              "  'to': 'Nastya'},\n",
              " {'amount': 500,\n",
              "  'from': 'Petya',\n",
              "  'prev_hash': '0000985c59',\n",
              "  'proof': 79157,\n",
              "  'to': 'Kolya'}]"
            ]
          },
          "metadata": {},
          "execution_count": 40
        }
      ]
    },
    {
      "cell_type": "code",
      "source": [
        "def validateBlockChain():\n",
        "  prev_block = None\n",
        "\n",
        "  for block in blockchain:\n",
        "    if prev_block: \n",
        "      actual_prev_hash = dataToHash(prev_block)\n",
        "      recorded_prev_hash = block[\"prev_hash\"]\n",
        "      if not isValidHash(actual_prev_hash):\n",
        "        print(f\"Blockchain is invalid, proof of work is wrong!\")\n",
        "\n",
        "      if actual_prev_hash != recorded_prev_hash:\n",
        "        print(f\"Blockchain is invalid, expected {recorded_prev_hash}, actual = {actual_prev_hash}\")\n",
        "      else:\n",
        "        print(f\"Valid hash {actual_prev_hash}\")\n",
        "\n",
        "    prev_block = block\n",
        "\n",
        "validateBlockChain()"
      ],
      "metadata": {
        "colab": {
          "base_uri": "https://localhost:8080/"
        },
        "id": "rib2AQxKfM01",
        "outputId": "8dd15bda-d5df-4771-9dcd-1a4d605066b3"
      },
      "execution_count": null,
      "outputs": [
        {
          "output_type": "stream",
          "name": "stdout",
          "text": [
            "Valid hash 0000931747\n",
            "Valid hash 0000249010\n",
            "Valid hash 00008354d6\n",
            "Valid hash 00001e6ec6\n",
            "Valid hash 0000e18296\n",
            "Valid hash 0000b17c95\n",
            "Valid hash 0000985c59\n"
          ]
        }
      ]
    },
    {
      "cell_type": "code",
      "source": [
        "# blockchain[5][\"amount\"] = 9999999"
      ],
      "metadata": {
        "id": "mqFlhSP4iQ9T"
      },
      "execution_count": null,
      "outputs": []
    },
    {
      "cell_type": "code",
      "source": [
        "blockchain[6]\n",
        "validateBlockChain()"
      ],
      "metadata": {
        "colab": {
          "base_uri": "https://localhost:8080/"
        },
        "id": "IuusvTj4iXtN",
        "outputId": "d3a9cd7c-8756-49b1-eac6-24477294dd6b"
      },
      "execution_count": null,
      "outputs": [
        {
          "output_type": "stream",
          "name": "stdout",
          "text": [
            "Valid hash d2ee03e02e\n",
            "Valid hash 000030300f\n",
            "Valid hash 00006bb3e3\n",
            "Valid hash 00007c3596\n",
            "Valid hash 0000b86ada\n",
            "Valid hash 0000ecf4c3\n",
            "Valid hash 0000129cad\n"
          ]
        }
      ]
    },
    {
      "cell_type": "code",
      "source": [
        "%%time\n",
        "\n",
        "block = 5\n",
        "amount = blockchain[block][\"amount\"]\n",
        "expected_hash = blockchain[block+1][\"prev_hash\"]\n",
        "\n",
        "hash = \"\"\n",
        "\n",
        "while hash != expected_hash:\n",
        "  amount += 1\n",
        "  blockchain[block][\"amount\"] = amount\n",
        "  hash = dataToHash(blockchain[block])\n",
        "\n",
        "print(f\"New amount = {amount}\")\n",
        "validateBlockChain()\n",
        "blockchain"
      ],
      "metadata": {
        "colab": {
          "base_uri": "https://localhost:8080/",
          "height": 415
        },
        "id": "2HArAJQB2AP8",
        "outputId": "481dc919-2908-4fef-9733-89df864e06c3"
      },
      "execution_count": null,
      "outputs": [
        {
          "output_type": "error",
          "ename": "KeyboardInterrupt",
          "evalue": "ignored",
          "traceback": [
            "\u001b[0;31m---------------------------------------------------------------------------\u001b[0m",
            "\u001b[0;31mKeyboardInterrupt\u001b[0m                         Traceback (most recent call last)",
            "\u001b[0;32m<ipython-input-29-b6fcb2735f31>\u001b[0m in \u001b[0;36m<module>\u001b[0;34m()\u001b[0m\n\u001b[0;32m----> 1\u001b[0;31m \u001b[0mget_ipython\u001b[0m\u001b[0;34m(\u001b[0m\u001b[0;34m)\u001b[0m\u001b[0;34m.\u001b[0m\u001b[0mrun_cell_magic\u001b[0m\u001b[0;34m(\u001b[0m\u001b[0;34m'time'\u001b[0m\u001b[0;34m,\u001b[0m \u001b[0;34m''\u001b[0m\u001b[0;34m,\u001b[0m \u001b[0;34m'\\nblock = 5\\namount = blockchain[block][\"amount\"]\\nexpected_hash = blockchain[block+1][\"prev_hash\"]\\n\\nhash = \"\"\\n\\nwhile hash != expected_hash:\\n  amount += 1\\n  blockchain[block][\"amount\"] = amount\\n  hash = dataToHash(blockchain[block])\\n\\nprint(f\"New amount = {amount}\")\\nvalidateBlockChain()\\nblockchain'\u001b[0m\u001b[0;34m)\u001b[0m\u001b[0;34m\u001b[0m\u001b[0;34m\u001b[0m\u001b[0m\n\u001b[0m",
            "\u001b[0;32m/usr/local/lib/python3.7/dist-packages/IPython/core/interactiveshell.py\u001b[0m in \u001b[0;36mrun_cell_magic\u001b[0;34m(self, magic_name, line, cell)\u001b[0m\n\u001b[1;32m   2115\u001b[0m             \u001b[0mmagic_arg_s\u001b[0m \u001b[0;34m=\u001b[0m \u001b[0mself\u001b[0m\u001b[0;34m.\u001b[0m\u001b[0mvar_expand\u001b[0m\u001b[0;34m(\u001b[0m\u001b[0mline\u001b[0m\u001b[0;34m,\u001b[0m \u001b[0mstack_depth\u001b[0m\u001b[0;34m)\u001b[0m\u001b[0;34m\u001b[0m\u001b[0;34m\u001b[0m\u001b[0m\n\u001b[1;32m   2116\u001b[0m             \u001b[0;32mwith\u001b[0m \u001b[0mself\u001b[0m\u001b[0;34m.\u001b[0m\u001b[0mbuiltin_trap\u001b[0m\u001b[0;34m:\u001b[0m\u001b[0;34m\u001b[0m\u001b[0;34m\u001b[0m\u001b[0m\n\u001b[0;32m-> 2117\u001b[0;31m                 \u001b[0mresult\u001b[0m \u001b[0;34m=\u001b[0m \u001b[0mfn\u001b[0m\u001b[0;34m(\u001b[0m\u001b[0mmagic_arg_s\u001b[0m\u001b[0;34m,\u001b[0m \u001b[0mcell\u001b[0m\u001b[0;34m)\u001b[0m\u001b[0;34m\u001b[0m\u001b[0;34m\u001b[0m\u001b[0m\n\u001b[0m\u001b[1;32m   2118\u001b[0m             \u001b[0;32mreturn\u001b[0m \u001b[0mresult\u001b[0m\u001b[0;34m\u001b[0m\u001b[0;34m\u001b[0m\u001b[0m\n\u001b[1;32m   2119\u001b[0m \u001b[0;34m\u001b[0m\u001b[0m\n",
            "\u001b[0;32m<decorator-gen-53>\u001b[0m in \u001b[0;36mtime\u001b[0;34m(self, line, cell, local_ns)\u001b[0m\n",
            "\u001b[0;32m/usr/local/lib/python3.7/dist-packages/IPython/core/magic.py\u001b[0m in \u001b[0;36m<lambda>\u001b[0;34m(f, *a, **k)\u001b[0m\n\u001b[1;32m    186\u001b[0m     \u001b[0;31m# but it's overkill for just that one bit of state.\u001b[0m\u001b[0;34m\u001b[0m\u001b[0;34m\u001b[0m\u001b[0;34m\u001b[0m\u001b[0m\n\u001b[1;32m    187\u001b[0m     \u001b[0;32mdef\u001b[0m \u001b[0mmagic_deco\u001b[0m\u001b[0;34m(\u001b[0m\u001b[0marg\u001b[0m\u001b[0;34m)\u001b[0m\u001b[0;34m:\u001b[0m\u001b[0;34m\u001b[0m\u001b[0;34m\u001b[0m\u001b[0m\n\u001b[0;32m--> 188\u001b[0;31m         \u001b[0mcall\u001b[0m \u001b[0;34m=\u001b[0m \u001b[0;32mlambda\u001b[0m \u001b[0mf\u001b[0m\u001b[0;34m,\u001b[0m \u001b[0;34m*\u001b[0m\u001b[0ma\u001b[0m\u001b[0;34m,\u001b[0m \u001b[0;34m**\u001b[0m\u001b[0mk\u001b[0m\u001b[0;34m:\u001b[0m \u001b[0mf\u001b[0m\u001b[0;34m(\u001b[0m\u001b[0;34m*\u001b[0m\u001b[0ma\u001b[0m\u001b[0;34m,\u001b[0m \u001b[0;34m**\u001b[0m\u001b[0mk\u001b[0m\u001b[0;34m)\u001b[0m\u001b[0;34m\u001b[0m\u001b[0;34m\u001b[0m\u001b[0m\n\u001b[0m\u001b[1;32m    189\u001b[0m \u001b[0;34m\u001b[0m\u001b[0m\n\u001b[1;32m    190\u001b[0m         \u001b[0;32mif\u001b[0m \u001b[0mcallable\u001b[0m\u001b[0;34m(\u001b[0m\u001b[0marg\u001b[0m\u001b[0;34m)\u001b[0m\u001b[0;34m:\u001b[0m\u001b[0;34m\u001b[0m\u001b[0;34m\u001b[0m\u001b[0m\n",
            "\u001b[0;32m/usr/local/lib/python3.7/dist-packages/IPython/core/magics/execution.py\u001b[0m in \u001b[0;36mtime\u001b[0;34m(self, line, cell, local_ns)\u001b[0m\n\u001b[1;32m   1191\u001b[0m         \u001b[0;32melse\u001b[0m\u001b[0;34m:\u001b[0m\u001b[0;34m\u001b[0m\u001b[0;34m\u001b[0m\u001b[0m\n\u001b[1;32m   1192\u001b[0m             \u001b[0mst\u001b[0m \u001b[0;34m=\u001b[0m \u001b[0mclock2\u001b[0m\u001b[0;34m(\u001b[0m\u001b[0;34m)\u001b[0m\u001b[0;34m\u001b[0m\u001b[0;34m\u001b[0m\u001b[0m\n\u001b[0;32m-> 1193\u001b[0;31m             \u001b[0mexec\u001b[0m\u001b[0;34m(\u001b[0m\u001b[0mcode\u001b[0m\u001b[0;34m,\u001b[0m \u001b[0mglob\u001b[0m\u001b[0;34m,\u001b[0m \u001b[0mlocal_ns\u001b[0m\u001b[0;34m)\u001b[0m\u001b[0;34m\u001b[0m\u001b[0;34m\u001b[0m\u001b[0m\n\u001b[0m\u001b[1;32m   1194\u001b[0m             \u001b[0mend\u001b[0m \u001b[0;34m=\u001b[0m \u001b[0mclock2\u001b[0m\u001b[0;34m(\u001b[0m\u001b[0;34m)\u001b[0m\u001b[0;34m\u001b[0m\u001b[0;34m\u001b[0m\u001b[0m\n\u001b[1;32m   1195\u001b[0m             \u001b[0mout\u001b[0m \u001b[0;34m=\u001b[0m \u001b[0;32mNone\u001b[0m\u001b[0;34m\u001b[0m\u001b[0;34m\u001b[0m\u001b[0m\n",
            "\u001b[0;32m<timed exec>\u001b[0m in \u001b[0;36m<module>\u001b[0;34m()\u001b[0m\n",
            "\u001b[0;32m<ipython-input-13-d987da51a10a>\u001b[0m in \u001b[0;36mdataToHash\u001b[0;34m(data)\u001b[0m\n\u001b[1;32m      1\u001b[0m \u001b[0;32mdef\u001b[0m \u001b[0mdataToHash\u001b[0m\u001b[0;34m(\u001b[0m\u001b[0mdata\u001b[0m\u001b[0;34m)\u001b[0m\u001b[0;34m:\u001b[0m\u001b[0;34m\u001b[0m\u001b[0;34m\u001b[0m\u001b[0m\n\u001b[1;32m      2\u001b[0m   \u001b[0mjson_data\u001b[0m \u001b[0;34m=\u001b[0m \u001b[0mjson\u001b[0m\u001b[0;34m.\u001b[0m\u001b[0mdumps\u001b[0m\u001b[0;34m(\u001b[0m\u001b[0mdata\u001b[0m\u001b[0;34m,\u001b[0m \u001b[0msort_keys\u001b[0m \u001b[0;34m=\u001b[0m \u001b[0;32mTrue\u001b[0m\u001b[0;34m)\u001b[0m\u001b[0;34m\u001b[0m\u001b[0;34m\u001b[0m\u001b[0m\n\u001b[0;32m----> 3\u001b[0;31m   \u001b[0mbinary_data\u001b[0m \u001b[0;34m=\u001b[0m \u001b[0mjson_data\u001b[0m\u001b[0;34m.\u001b[0m\u001b[0mencode\u001b[0m\u001b[0;34m(\u001b[0m\u001b[0;34m)\u001b[0m\u001b[0;34m\u001b[0m\u001b[0;34m\u001b[0m\u001b[0m\n\u001b[0m\u001b[1;32m      4\u001b[0m   \u001b[0;32mreturn\u001b[0m \u001b[0mhashlib\u001b[0m\u001b[0;34m.\u001b[0m\u001b[0msha256\u001b[0m\u001b[0;34m(\u001b[0m\u001b[0mbinary_data\u001b[0m\u001b[0;34m)\u001b[0m\u001b[0;34m.\u001b[0m\u001b[0mhexdigest\u001b[0m\u001b[0;34m(\u001b[0m\u001b[0;34m)\u001b[0m\u001b[0;34m[\u001b[0m\u001b[0;34m:\u001b[0m\u001b[0;36m10\u001b[0m\u001b[0;34m]\u001b[0m\u001b[0;34m\u001b[0m\u001b[0;34m\u001b[0m\u001b[0m\n\u001b[1;32m      5\u001b[0m \u001b[0;34m\u001b[0m\u001b[0m\n",
            "\u001b[0;31mKeyboardInterrupt\u001b[0m: "
          ]
        }
      ]
    },
    {
      "cell_type": "code",
      "source": [
        "for amount in range(1000, 999999):\n",
        "  blockchain[block][\"amount\"] = amount\n",
        "  hash = dataToHash(blockchain[block])\n",
        "  if hash == expected_hash:\n",
        "    print(amount)\n"
      ],
      "metadata": {
        "id": "mMEpPibC3vAz"
      },
      "execution_count": null,
      "outputs": []
    },
    {
      "cell_type": "code",
      "source": [
        "blockchain[block][\"amount\"] = 419744\n",
        "validateBlockChain()"
      ],
      "metadata": {
        "colab": {
          "base_uri": "https://localhost:8080/"
        },
        "id": "p7WgDdLk4YXT",
        "outputId": "4e5f9f68-e8ba-4910-afb4-e5d966f45b52"
      },
      "execution_count": null,
      "outputs": [
        {
          "output_type": "stream",
          "name": "stdout",
          "text": [
            "Valid hash 0000931747\n",
            "Valid hash 0000249010\n",
            "Valid hash 00008354d6\n",
            "Valid hash 00001e6ec6\n",
            "Valid hash 0000e18296\n",
            "Blockchain is invalid, proof of work is wrong!\n",
            "Blockchain is invalid, expected 0000b17c95, actual = daf71dd03c\n",
            "Valid hash 0000985c59\n"
          ]
        }
      ]
    },
    {
      "cell_type": "code",
      "source": [
        "def isValidHash(hash):\n",
        "  return hash[0:4] == \"0000\"\n",
        "\n",
        "def isValidProof(block, proof):\n",
        "  block_copy = block.copy()\n",
        "  block_copy[\"proof\"] = proof\n",
        "  hash = dataToHash(block_copy)\n",
        "  is_valid_hash = isValidHash(hash)\n",
        "  #if is_valid_hash:\n",
        "  #  print(hash)\n",
        "\n",
        "  return is_valid_hash\n",
        "\n",
        "# функция майнинга\n",
        "def mineProofOfWork(block):\n",
        "  proof = 0\n",
        "  while not isValidProof(block, proof):\n",
        "    proof +=1\n",
        "  return proof"
      ],
      "metadata": {
        "id": "6nGd0Lj07Bwn"
      },
      "execution_count": null,
      "outputs": []
    },
    {
      "cell_type": "code",
      "source": [
        "%%time\n",
        "mineProofOfWork(blockchain[5])"
      ],
      "metadata": {
        "colab": {
          "base_uri": "https://localhost:8080/"
        },
        "id": "cv_Z9ZgF8IHq",
        "outputId": "4daaa919-c6cd-4c42-c4ea-41a466c67271"
      },
      "execution_count": null,
      "outputs": [
        {
          "output_type": "stream",
          "name": "stdout",
          "text": [
            "CPU times: user 29.9 ms, sys: 1.02 ms, total: 30.9 ms\n",
            "Wall time: 34.8 ms\n"
          ]
        },
        {
          "output_type": "execute_result",
          "data": {
            "text/plain": [
              "3017"
            ]
          },
          "metadata": {},
          "execution_count": 31
        }
      ]
    },
    {
      "cell_type": "code",
      "source": [
        "block = blockchain[5]\n",
        "print(block, dataToHash(block))"
      ],
      "metadata": {
        "colab": {
          "base_uri": "https://localhost:8080/"
        },
        "id": "TDqM4I3F8t5c",
        "outputId": "6dedc211-8af1-4dbe-a394-4270cdf5b486"
      },
      "execution_count": null,
      "outputs": [
        {
          "output_type": "stream",
          "name": "stdout",
          "text": [
            "{'from': 'Vasya', 'to': 'Petya', 'amount': 419744, 'prev_hash': '0000e18296', 'proof': 171126} daf71dd03c\n"
          ]
        }
      ]
    },
    {
      "cell_type": "code",
      "source": [
        "block = blockchain[5].copy()\n",
        "block[\"proof\"] = mineProofOfWork(block)\n",
        "print(block, dataToHash(block))"
      ],
      "metadata": {
        "colab": {
          "base_uri": "https://localhost:8080/"
        },
        "id": "tM3OdXgm82z7",
        "outputId": "1c627823-b02a-4c1b-ce44-13f7506d6c73"
      },
      "execution_count": null,
      "outputs": [
        {
          "output_type": "stream",
          "name": "stdout",
          "text": [
            "{'from': 'Vasya', 'to': 'Petya', 'amount': 419744, 'prev_hash': '0000e18296', 'proof': 3017} 0000833d0a\n"
          ]
        }
      ]
    },
    {
      "cell_type": "code",
      "source": [
        "balances = {}\n",
        "if \"Mike\" in balances:    #есть ли запись в словаре balances с ключом Mike\n",
        "  print(balances[\"Mike\"])\n",
        "else:\n",
        "  print(\"0\")\n"
      ],
      "metadata": {
        "colab": {
          "base_uri": "https://localhost:8080/"
        },
        "id": "WXc-rueZGtKQ",
        "outputId": "2b5b813c-90a9-4b3d-e7a0-3a4b530e8b2b"
      },
      "execution_count": null,
      "outputs": [
        {
          "output_type": "stream",
          "name": "stdout",
          "text": [
            "0\n"
          ]
        }
      ]
    },
    {
      "cell_type": "code",
      "source": [
        "# подсчёт балансов у всех участников блокчейна\n",
        "\n",
        "def calculateBalances():\n",
        "  balances = {}\n",
        "  for block in blockchain:\n",
        "    if block[\"from\"] in balances: # если есть запись о балансе отправителя\n",
        "      balance_from = balances[block[\"from\"]]\n",
        "    else:\n",
        "      balance_from = 0\n",
        "\n",
        "    if block[\"to\"] in balances: # если есть запись о балансе отправителя\n",
        "      balance_to = balances[block[\"to\"]]\n",
        "    else:\n",
        "      balance_to = 0\n",
        "\n",
        "    balance_from -= block[\"amount\"]\n",
        "    balance_to += block[\"amount\"]\n",
        "\n",
        "    balances[block[\"from\"]] = balance_from\n",
        "    balances[block[\"to\"]] = balance_to\n",
        "  \n",
        "  print(balances)\n",
        "\n",
        "calculateBalances()"
      ],
      "metadata": {
        "colab": {
          "base_uri": "https://localhost:8080/"
        },
        "id": "wYu1WpwPJktZ",
        "outputId": "7f8ae60b-e073-459b-c53c-88c25614e11b"
      },
      "execution_count": null,
      "outputs": [
        {
          "output_type": "stream",
          "name": "stdout",
          "text": [
            "{'': 0.0, 'Liudmila': -71522, 'Vasya': 1000, 'Petya': 14, 'Kolya': 588, 'Nastya': 69920}\n"
          ]
        }
      ]
    }
  ]
}